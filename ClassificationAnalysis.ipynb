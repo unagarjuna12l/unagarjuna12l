{
  "nbformat": 4,
  "nbformat_minor": 0,
  "metadata": {
    "colab": {
      "provenance": [],
      "include_colab_link": true
    },
    "kernelspec": {
      "name": "python3",
      "display_name": "Python 3"
    },
    "language_info": {
      "name": "python"
    }
  },
  "cells": [
    {
      "cell_type": "markdown",
      "metadata": {
        "id": "view-in-github",
        "colab_type": "text"
      },
      "source": [
        "<a href=\"https://colab.research.google.com/github/unagarjuna12l/unagarjuna12l/blob/main/ClassificationAnalysis.ipynb\" target=\"_parent\"><img src=\"https://colab.research.google.com/assets/colab-badge.svg\" alt=\"Open In Colab\"/></a>"
      ]
    },
    {
      "cell_type": "markdown",
      "source": [
        "# **Title of Project: Hand Written Digit Prediction - Classification Analysis**\n"
      ],
      "metadata": {
        "id": "pNNGqBB0_hBd"
      }
    },
    {
      "cell_type": "markdown",
      "source": [
        "# **Objective:**"
      ],
      "metadata": {
        "id": "WkbvoywywCbV"
      }
    },
    {
      "cell_type": "markdown",
      "source": [
        "Build a machine learning model to predict handwritten digits.\n"
      ],
      "metadata": {
        "id": "fPzlf1LnwGD7"
      }
    },
    {
      "cell_type": "markdown",
      "source": [
        "# **Data Source:**"
      ],
      "metadata": {
        "id": "4ebyHxYpwVzc"
      }
    },
    {
      "cell_type": "markdown",
      "source": [
        "The digits dataset consists of 8x8 pixel images of digits."
      ],
      "metadata": {
        "id": "aDuAOZdhwhDc"
      }
    },
    {
      "cell_type": "markdown",
      "source": [
        "# **Import Library**"
      ],
      "metadata": {
        "id": "AhpwGYW6Af6k"
      }
    },
    {
      "cell_type": "markdown",
      "source": [
        "- Pandas, NumPy, Matplotlib for data manipulation and visualization.\n",
        "- `load_digits` from `sklearn.datasets` for loading the digits dataset.\n",
        "- `train_test_split` from `sklearn.model_selection` for splitting the data into training and testing sets.\n",
        "- `RandomForestClassifier` from `sklearn.ensemble` for building a Random Forest model.\n",
        "- `confusion_matrix` and `classification_report` from `sklearn.metrics` for model evaluation.\n"
      ],
      "metadata": {
        "id": "aXt3_lv2woow"
      }
    },
    {
      "cell_type": "code",
      "execution_count": null,
      "metadata": {
        "id": "9cn28qhS_cPu"
      },
      "outputs": [],
      "source": [
        "import pandas as pd"
      ]
    },
    {
      "cell_type": "code",
      "source": [
        "import numpy as np"
      ],
      "metadata": {
        "id": "eTS8A6o-CC_L"
      },
      "execution_count": null,
      "outputs": []
    },
    {
      "cell_type": "code",
      "source": [
        "import matplotlib.pyplot as plt\n"
      ],
      "metadata": {
        "id": "YwURdgEiCnwr"
      },
      "execution_count": null,
      "outputs": []
    },
    {
      "cell_type": "code",
      "source": [
        "from sklearn.datasets import load_digits"
      ],
      "metadata": {
        "id": "t72bvJ6WDE_M"
      },
      "execution_count": null,
      "outputs": []
    },
    {
      "cell_type": "markdown",
      "source": [
        "# **Import Data:**"
      ],
      "metadata": {
        "id": "eGgv3k3xwzPn"
      }
    },
    {
      "cell_type": "markdown",
      "source": [
        "- Load the digits dataset using `load_digits()`."
      ],
      "metadata": {
        "id": "luaKlZh4w1rm"
      }
    },
    {
      "cell_type": "code",
      "source": [
        "df = load_digits()"
      ],
      "metadata": {
        "id": "iUdTbJjMDbvH"
      },
      "execution_count": null,
      "outputs": []
    },
    {
      "cell_type": "markdown",
      "source": [
        "# **Describe Data:**"
      ],
      "metadata": {
        "id": "OC3fHCAPxBdG"
      }
    },
    {
      "cell_type": "markdown",
      "source": [
        "- Display the first 4 images from the dataset along with their labels.\n",
        "\n"
      ],
      "metadata": {
        "id": "A47BhWlAw9lP"
      }
    },
    {
      "cell_type": "code",
      "source": [
        "_,axes=plt.subplots(nrows=1,ncols=4,figsize=(10,3))\n",
        "for ax,image,label in zip(axes,df.images,df.target):\n",
        "    ax.set_axis_off()\n",
        "    ax.imshow(image,cmap=plt.cm.gray_r,interpolation=\"nearest\")\n",
        "    ax.set_title(\"Training : %i\"%label)"
      ],
      "metadata": {
        "colab": {
          "base_uri": "https://localhost:8080/",
          "height": 227
        },
        "id": "exO9xVf6Dg3Z",
        "outputId": "7eb4785c-da41-4c1b-ebb7-6bd8b0b6d941"
      },
      "execution_count": null,
      "outputs": [
        {
          "output_type": "display_data",
          "data": {
            "text/plain": [
              "<Figure size 1000x300 with 4 Axes>"
            ],
            "image/png": "[encoded data removed]"
          },
          "metadata": {}
        }
      ]
    },
    {
      "cell_type": "markdown",
      "source": [
        "#**Data Preprocessing**"
      ],
      "metadata": {
        "id": "aA8X9x82j29n"
      }
    },
    {
      "cell_type": "code",
      "source": [
        "df.images.shape"
      ],
      "metadata": {
        "id": "UrXBMcOyEnQQ",
        "colab": {
          "base_uri": "https://localhost:8080/"
        },
        "outputId": "21417102-fad1-438b-b310-edba59921448"
      },
      "execution_count": null,
      "outputs": [
        {
          "output_type": "execute_result",
          "data": {
            "text/plain": [
              "(1797, 8, 8)"
            ]
          },
          "metadata": {},
          "execution_count": 15
        }
      ]
    },
    {
      "cell_type": "code",
      "source": [
        "df.images[0]"
      ],
      "metadata": {
        "colab": {
          "base_uri": "https://localhost:8080/"
        },
        "id": "O60B_KlVjXs1",
        "outputId": "f1068f47-7070-497f-a9d4-cc624e350dcb"
      },
      "execution_count": null,
      "outputs": [
        {
          "output_type": "execute_result",
          "data": {
            "text/plain": [
              "array([[ 0.,  0.,  5., 13.,  9.,  1.,  0.,  0.],\n",
              "       [ 0.,  0., 13., 15., 10., 15.,  5.,  0.],\n",
              "       [ 0.,  3., 15.,  2.,  0., 11.,  8.,  0.],\n",
              "       [ 0.,  4., 12.,  0.,  0.,  8.,  8.,  0.],\n",
              "       [ 0.,  5.,  8.,  0.,  0.,  9.,  8.,  0.],\n",
              "       [ 0.,  4., 11.,  0.,  1., 12.,  7.,  0.],\n",
              "       [ 0.,  2., 14.,  5., 10., 12.,  0.,  0.],\n",
              "       [ 0.,  0.,  6., 13., 10.,  0.,  0.,  0.]])"
            ]
          },
          "metadata": {},
          "execution_count": 16
        }
      ]
    },
    {
      "cell_type": "code",
      "source": [
        "df.images[0].shape"
      ],
      "metadata": {
        "colab": {
          "base_uri": "https://localhost:8080/"
        },
        "id": "EV9rVhXGmc-1",
        "outputId": "93b4d524-5e91-4e8d-9fa9-876428fc808e"
      },
      "execution_count": null,
      "outputs": [
        {
          "output_type": "execute_result",
          "data": {
            "text/plain": [
              "(8, 8)"
            ]
          },
          "metadata": {},
          "execution_count": 17
        }
      ]
    },
    {
      "cell_type": "code",
      "source": [
        "len(df.images)"
      ],
      "metadata": {
        "colab": {
          "base_uri": "https://localhost:8080/"
        },
        "id": "e9DEdA11nPJ8",
        "outputId": "77608a51-d3d5-469f-dced-9d99032200a1"
      },
      "execution_count": null,
      "outputs": [
        {
          "output_type": "execute_result",
          "data": {
            "text/plain": [
              "1797"
            ]
          },
          "metadata": {},
          "execution_count": 18
        }
      ]
    },
    {
      "cell_type": "code",
      "source": [
        "n_samples=len(df.images)\n",
        "data=df.images.reshape((n_samples,-1))"
      ],
      "metadata": {
        "id": "r3Rg3gM5nbB-"
      },
      "execution_count": null,
      "outputs": []
    },
    {
      "cell_type": "code",
      "source": [
        "data[0]"
      ],
      "metadata": {
        "colab": {
          "base_uri": "https://localhost:8080/"
        },
        "id": "jBcJH5YGnxE5",
        "outputId": "807d0433-a51b-4a78-bbcd-9fad745c9dd8"
      },
      "execution_count": null,
      "outputs": [
        {
          "output_type": "execute_result",
          "data": {
            "text/plain": [
              "array([ 0.,  0.,  5., 13.,  9.,  1.,  0.,  0.,  0.,  0., 13., 15., 10.,\n",
              "       15.,  5.,  0.,  0.,  3., 15.,  2.,  0., 11.,  8.,  0.,  0.,  4.,\n",
              "       12.,  0.,  0.,  8.,  8.,  0.,  0.,  5.,  8.,  0.,  0.,  9.,  8.,\n",
              "        0.,  0.,  4., 11.,  0.,  1., 12.,  7.,  0.,  0.,  2., 14.,  5.,\n",
              "       10., 12.,  0.,  0.,  0.,  0.,  6., 13., 10.,  0.,  0.,  0.])"
            ]
          },
          "metadata": {},
          "execution_count": 21
        }
      ]
    },
    {
      "cell_type": "code",
      "source": [
        "data[0].shape"
      ],
      "metadata": {
        "colab": {
          "base_uri": "https://localhost:8080/"
        },
        "id": "ZQeQ-Ti6n1TI",
        "outputId": "ed6d65cf-1d54-419d-aa1c-07ba1ddea63f"
      },
      "execution_count": null,
      "outputs": [
        {
          "output_type": "execute_result",
          "data": {
            "text/plain": [
              "(64,)"
            ]
          },
          "metadata": {},
          "execution_count": 22
        }
      ]
    },
    {
      "cell_type": "code",
      "source": [
        "data.shape"
      ],
      "metadata": {
        "colab": {
          "base_uri": "https://localhost:8080/"
        },
        "id": "xuogjqgyn8Ea",
        "outputId": "43953f6e-76e5-4acb-ddc0-575c59ed8801"
      },
      "execution_count": null,
      "outputs": [
        {
          "output_type": "execute_result",
          "data": {
            "text/plain": [
              "(1797, 64)"
            ]
          },
          "metadata": {},
          "execution_count": 23
        }
      ]
    },
    {
      "cell_type": "markdown",
      "source": [
        "**Scaling Image Data**"
      ],
      "metadata": {
        "id": "Av_pT4rNtLDG"
      }
    },
    {
      "cell_type": "code",
      "source": [
        "data.min()"
      ],
      "metadata": {
        "colab": {
          "base_uri": "https://localhost:8080/"
        },
        "id": "53Qp74AToABg",
        "outputId": "74ffc8dc-b1f3-4ed3-a3e3-594d7f536886"
      },
      "execution_count": null,
      "outputs": [
        {
          "output_type": "execute_result",
          "data": {
            "text/plain": [
              "0.0"
            ]
          },
          "metadata": {},
          "execution_count": 24
        }
      ]
    },
    {
      "cell_type": "code",
      "source": [
        "data.max()"
      ],
      "metadata": {
        "colab": {
          "base_uri": "https://localhost:8080/"
        },
        "id": "futX9mkzoFl1",
        "outputId": "69682c5a-e9fc-4763-e66e-1e32b3e2d6b1"
      },
      "execution_count": null,
      "outputs": [
        {
          "output_type": "execute_result",
          "data": {
            "text/plain": [
              "16.0"
            ]
          },
          "metadata": {},
          "execution_count": 26
        }
      ]
    },
    {
      "cell_type": "code",
      "source": [
        "data=data/16"
      ],
      "metadata": {
        "id": "t_U95KaIoLDd"
      },
      "execution_count": null,
      "outputs": []
    },
    {
      "cell_type": "code",
      "source": [
        "data.min()"
      ],
      "metadata": {
        "colab": {
          "base_uri": "https://localhost:8080/"
        },
        "id": "HeCp_g0PoQfa",
        "outputId": "936ce99f-0b89-477b-d448-322864c21c99"
      },
      "execution_count": null,
      "outputs": [
        {
          "output_type": "execute_result",
          "data": {
            "text/plain": [
              "0.0"
            ]
          },
          "metadata": {},
          "execution_count": 29
        }
      ]
    },
    {
      "cell_type": "code",
      "source": [
        "data.max()"
      ],
      "metadata": {
        "colab": {
          "base_uri": "https://localhost:8080/"
        },
        "id": "8hBS-CpnoWiM",
        "outputId": "1f645c43-e3ff-4ce2-fca4-73fd1b324ccb"
      },
      "execution_count": null,
      "outputs": [
        {
          "output_type": "execute_result",
          "data": {
            "text/plain": [
              "1.0"
            ]
          },
          "metadata": {},
          "execution_count": 34
        }
      ]
    },
    {
      "cell_type": "code",
      "source": [
        "# @title\n",
        "data[0]"
      ],
      "metadata": {
        "colab": {
          "base_uri": "https://localhost:8080/"
        },
        "cellView": "form",
        "id": "WqOQZjpxoqRK",
        "outputId": "c029232a-cc0a-4290-a7bf-367c8264a058"
      },
      "execution_count": null,
      "outputs": [
        {
          "output_type": "execute_result",
          "data": {
            "text/plain": [
              "array([0.    , 0.    , 0.3125, 0.8125, 0.5625, 0.0625, 0.    , 0.    ,\n",
              "       0.    , 0.    , 0.8125, 0.9375, 0.625 , 0.9375, 0.3125, 0.    ,\n",
              "       0.    , 0.1875, 0.9375, 0.125 , 0.    , 0.6875, 0.5   , 0.    ,\n",
              "       0.    , 0.25  , 0.75  , 0.    , 0.    , 0.5   , 0.5   , 0.    ,\n",
              "       0.    , 0.3125, 0.5   , 0.    , 0.    , 0.5625, 0.5   , 0.    ,\n",
              "       0.    , 0.25  , 0.6875, 0.    , 0.0625, 0.75  , 0.4375, 0.    ,\n",
              "       0.    , 0.125 , 0.875 , 0.3125, 0.625 , 0.75  , 0.    , 0.    ,\n",
              "       0.    , 0.    , 0.375 , 0.8125, 0.625 , 0.    , 0.    , 0.    ])"
            ]
          },
          "metadata": {},
          "execution_count": 35
        }
      ]
    },
    {
      "cell_type": "markdown",
      "source": [
        "#**Train Test Split Data**\n",
        "\n",
        "\n"
      ],
      "metadata": {
        "id": "XbK8mJoLovVE"
      }
    },
    {
      "cell_type": "markdown",
      "source": [
        "- Split the data into training and testing sets using `train_test_split`.\n"
      ],
      "metadata": {
        "id": "Mn5QNyDMyju9"
      }
    },
    {
      "cell_type": "code",
      "source": [
        "from sklearn.model_selection import train_test_split"
      ],
      "metadata": {
        "id": "BGzP1eq7ouFV"
      },
      "execution_count": null,
      "outputs": []
    },
    {
      "cell_type": "markdown",
      "source": [
        "**Define Target Variable (y) and Feature Variables (X):**"
      ],
      "metadata": {
        "id": "bAAD4Lr4ypiX"
      }
    },
    {
      "cell_type": "markdown",
      "source": [
        "- Target variable (y): `df.target`\n",
        "- Feature variables (X): `data`"
      ],
      "metadata": {
        "id": "Pq0hjXnjyvJs"
      }
    },
    {
      "cell_type": "code",
      "source": [
        "X_train,X_test,y_main,y_test = train_test_split(data,df.target,test_size=0.3)"
      ],
      "metadata": {
        "id": "HGFHazLHpL3Z"
      },
      "execution_count": null,
      "outputs": []
    },
    {
      "cell_type": "code",
      "source": [
        "X_train.shape,X_test.shape,y_main.shape,y_test.shape"
      ],
      "metadata": {
        "colab": {
          "base_uri": "https://localhost:8080/"
        },
        "id": "GeLTGBnGpmkJ",
        "outputId": "dbefdf5a-4f5b-41fb-f651-93f928c31427"
      },
      "execution_count": null,
      "outputs": [
        {
          "output_type": "execute_result",
          "data": {
            "text/plain": [
              "((1257, 64), (540, 64), (1257,), (540,))"
            ]
          },
          "metadata": {},
          "execution_count": 40
        }
      ]
    },
    {
      "cell_type": "markdown",
      "source": [
        "# **Random Forest Model**"
      ],
      "metadata": {
        "id": "SKrkLWBFqpSP"
      }
    },
    {
      "cell_type": "markdown",
      "source": [
        "- Build a Random Forest model using `RandomForestClassifier`."
      ],
      "metadata": {
        "id": "Ixr58htYy51x"
      }
    },
    {
      "cell_type": "code",
      "source": [
        "from sklearn.ensemble import RandomForestClassifier"
      ],
      "metadata": {
        "id": "eJcsJJClqlBY"
      },
      "execution_count": null,
      "outputs": []
    },
    {
      "cell_type": "code",
      "source": [
        "rf= RandomForestClassifier()"
      ],
      "metadata": {
        "id": "qrAlELHRq6kW"
      },
      "execution_count": null,
      "outputs": []
    },
    {
      "cell_type": "code",
      "source": [
        "rf.fit(X_train,y_main)"
      ],
      "metadata": {
        "colab": {
          "base_uri": "https://localhost:8080/",
          "height": 74
        },
        "id": "tIUcdllLrGt9",
        "outputId": "50f80706-ea4c-40c2-ac2a-a1e5e7d1546b"
      },
      "execution_count": null,
      "outputs": [
        {
          "output_type": "execute_result",
          "data": {
            "text/plain": [
              "RandomForestClassifier()"
            ],
            "text/html": [
              "<style>#sk-container-id-1 {color: black;background-color: white;}#sk-container-id-1 pre{padding: 0;}#sk-container-id-1 div.sk-toggleable {background-color: white;}#sk-container-id-1 label.sk-toggleable__label {cursor: pointer;display: block;width: 100%;margin-bottom: 0;padding: 0.3em;box-sizing: border-box;text-align: center;}#sk-container-id-1 label.sk-toggleable__label-arrow:before {content: \"▸\";float: left;margin-right: 0.25em;color: #696969;}#sk-container-id-1 label.sk-toggleable__label-arrow:hover:before {color: black;}#sk-container-id-1 div.sk-estimator:hover label.sk-toggleable__label-arrow:before {color: black;}#sk-container-id-1 div.sk-toggleable__content {max-height: 0;max-width: 0;overflow: hidden;text-align: left;background-color: #f0f8ff;}#sk-container-id-1 div.sk-toggleable__content pre {margin: 0.2em;color: black;border-radius: 0.25em;background-color: #f0f8ff;}#sk-container-id-1 input.sk-toggleable__control:checked~div.sk-toggleable__content {max-height: 200px;max-width: 100%;overflow: auto;}#sk-container-id-1 input.sk-toggleable__control:checked~label.sk-toggleable__label-arrow:before {content: \"▾\";}#sk-container-id-1 div.sk-estimator input.sk-toggleable__control:checked~label.sk-toggleable__label {background-color: #d4ebff;}#sk-container-id-1 div.sk-label input.sk-toggleable__control:checked~label.sk-toggleable__label {background-color: #d4ebff;}#sk-container-id-1 input.sk-hidden--visually {border: 0;clip: rect(1px 1px 1px 1px);clip: rect(1px, 1px, 1px, 1px);height: 1px;margin: -1px;overflow: hidden;padding: 0;position: absolute;width: 1px;}#sk-container-id-1 div.sk-estimator {font-family: monospace;background-color: #f0f8ff;border: 1px dotted black;border-radius: 0.25em;box-sizing: border-box;margin-bottom: 0.5em;}#sk-container-id-1 div.sk-estimator:hover {background-color: #d4ebff;}#sk-container-id-1 div.sk-parallel-item::after {content: \"\";width: 100%;border-bottom: 1px solid gray;flex-grow: 1;}#sk-container-id-1 div.sk-label:hover label.sk-toggleable__label {background-color: #d4ebff;}#sk-container-id-1 div.sk-serial::before {content: \"\";position: absolute;border-left: 1px solid gray;box-sizing: border-box;top: 0;bottom: 0;left: 50%;z-index: 0;}#sk-container-id-1 div.sk-serial {display: flex;flex-direction: column;align-items: center;background-color: white;padding-right: 0.2em;padding-left: 0.2em;position: relative;}#sk-container-id-1 div.sk-item {position: relative;z-index: 1;}#sk-container-id-1 div.sk-parallel {display: flex;align-items: stretch;justify-content: center;background-color: white;position: relative;}#sk-container-id-1 div.sk-item::before, #sk-container-id-1 div.sk-parallel-item::before {content: \"\";position: absolute;border-left: 1px solid gray;box-sizing: border-box;top: 0;bottom: 0;left: 50%;z-index: -1;}#sk-container-id-1 div.sk-parallel-item {display: flex;flex-direction: column;z-index: 1;position: relative;background-color: white;}#sk-container-id-1 div.sk-parallel-item:first-child::after {align-self: flex-end;width: 50%;}#sk-container-id-1 div.sk-parallel-item:last-child::after {align-self: flex-start;width: 50%;}#sk-container-id-1 div.sk-parallel-item:only-child::after {width: 0;}#sk-container-id-1 div.sk-dashed-wrapped {border: 1px dashed gray;margin: 0 0.4em 0.5em 0.4em;box-sizing: border-box;padding-bottom: 0.4em;background-color: white;}#sk-container-id-1 div.sk-label label {font-family: monospace;font-weight: bold;display: inline-block;line-height: 1.2em;}#sk-container-id-1 div.sk-label-container {text-align: center;}#sk-container-id-1 div.sk-container {/* jupyter's `normalize.less` sets `[hidden] { display: none; }` but bootstrap.min.css set `[hidden] { display: none !important; }` so we also need the `!important` here to be able to override the default hidden behavior on the sphinx rendered scikit-learn.org. See: https://github.com/scikit-learn/scikit-learn/issues/21755 */display: inline-block !important;position: relative;}#sk-container-id-1 div.sk-text-repr-fallback {display: none;}</style><div id=\"sk-container-id-1\" class=\"sk-top-container\"><div class=\"sk-text-repr-fallback\"><pre>RandomForestClassifier()</pre><b>In a Jupyter environment, please rerun this cell to show the HTML representation or trust the notebook. <br />On GitHub, the HTML representation is unable to render, please try loading this page with nbviewer.org.</b></div><div class=\"sk-container\" hidden><div class=\"sk-item\"><div class=\"sk-estimator sk-toggleable\"><input class=\"sk-toggleable__control sk-hidden--visually\" id=\"sk-estimator-id-1\" type=\"checkbox\" checked><label for=\"sk-estimator-id-1\" class=\"sk-toggleable__label sk-toggleable__label-arrow\">RandomForestClassifier</label><div class=\"sk-toggleable__content\"><pre>RandomForestClassifier()</pre></div></div></div></div></div>"
            ]
          },
          "metadata": {},
          "execution_count": 45
        }
      ]
    },
    {
      "cell_type": "markdown",
      "source": [
        "# **Predict Test Data**"
      ],
      "metadata": {
        "id": "oGSIsLirrZKD"
      }
    },
    {
      "cell_type": "code",
      "source": [
        "y_pred=rf.predict(X_test)"
      ],
      "metadata": {
        "id": "-JZpxlimrX0e"
      },
      "execution_count": null,
      "outputs": []
    },
    {
      "cell_type": "code",
      "source": [
        "y_pred"
      ],
      "metadata": {
        "colab": {
          "base_uri": "https://localhost:8080/"
        },
        "id": "n57QZOeosRPc",
        "outputId": "4ef447d9-1d24-464b-e1b8-b603bc33f56e"
      },
      "execution_count": null,
      "outputs": [
        {
          "output_type": "execute_result",
          "data": {
            "text/plain": [
              "array([4, 4, 8, 4, 0, 0, 2, 8, 3, 7, 3, 8, 7, 1, 2, 3, 7, 8, 1, 2, 8, 8,\n",
              "       6, 1, 9, 3, 7, 1, 1, 8, 1, 2, 1, 4, 0, 9, 6, 0, 4, 1, 2, 4, 6, 3,\n",
              "       5, 5, 5, 8, 1, 1, 1, 9, 1, 6, 1, 2, 1, 9, 1, 8, 0, 5, 2, 3, 1, 4,\n",
              "       8, 5, 4, 9, 4, 0, 2, 9, 2, 1, 6, 1, 5, 9, 7, 8, 9, 1, 6, 2, 7, 3,\n",
              "       2, 5, 9, 9, 1, 5, 0, 0, 3, 5, 4, 7, 1, 1, 1, 6, 8, 7, 6, 7, 4, 7,\n",
              "       5, 5, 3, 4, 1, 2, 4, 5, 4, 5, 6, 6, 6, 7, 1, 4, 7, 2, 3, 1, 3, 2,\n",
              "       0, 4, 9, 7, 0, 9, 7, 9, 9, 4, 1, 8, 4, 3, 7, 0, 9, 8, 4, 8, 2, 2,\n",
              "       5, 8, 4, 8, 7, 3, 6, 6, 8, 0, 9, 3, 6, 7, 0, 3, 8, 2, 3, 7, 4, 4,\n",
              "       4, 7, 5, 9, 0, 9, 3, 0, 1, 5, 0, 0, 0, 2, 1, 2, 7, 2, 5, 8, 1, 8,\n",
              "       3, 0, 7, 9, 6, 3, 0, 4, 0, 8, 5, 2, 0, 4, 1, 0, 3, 1, 8, 3, 2, 3,\n",
              "       8, 2, 6, 6, 3, 6, 8, 1, 9, 2, 1, 3, 7, 8, 5, 8, 8, 8, 3, 8, 8, 9,\n",
              "       9, 1, 9, 8, 0, 0, 5, 7, 1, 3, 5, 5, 1, 1, 8, 5, 0, 0, 0, 0, 3, 6,\n",
              "       8, 0, 9, 4, 0, 2, 6, 5, 4, 7, 6, 6, 4, 1, 3, 5, 9, 6, 2, 9, 6, 9,\n",
              "       5, 1, 0, 9, 2, 0, 9, 6, 7, 0, 8, 2, 5, 1, 5, 2, 0, 3, 9, 3, 9, 7,\n",
              "       8, 4, 9, 3, 5, 3, 7, 3, 7, 8, 2, 5, 3, 7, 3, 3, 1, 4, 1, 2, 4, 5,\n",
              "       6, 7, 1, 1, 4, 6, 5, 6, 6, 9, 3, 0, 1, 4, 4, 7, 3, 1, 2, 9, 3, 4,\n",
              "       6, 7, 8, 7, 3, 1, 8, 5, 2, 4, 6, 2, 3, 3, 7, 8, 7, 0, 7, 4, 6, 3,\n",
              "       7, 7, 5, 9, 0, 0, 0, 7, 7, 5, 4, 1, 0, 0, 3, 4, 7, 6, 4, 6, 8, 7,\n",
              "       6, 4, 6, 7, 2, 2, 7, 5, 3, 3, 4, 1, 6, 1, 2, 6, 5, 7, 7, 1, 3, 9,\n",
              "       5, 9, 8, 0, 5, 6, 6, 8, 4, 8, 4, 7, 7, 7, 2, 5, 5, 7, 9, 0, 1, 1,\n",
              "       1, 0, 0, 2, 2, 8, 8, 0, 7, 2, 4, 1, 3, 0, 6, 9, 0, 4, 7, 2, 2, 1,\n",
              "       3, 6, 8, 3, 0, 1, 1, 0, 7, 9, 4, 8, 9, 5, 1, 2, 4, 6, 6, 8, 7, 5,\n",
              "       4, 4, 8, 6, 3, 4, 1, 2, 2, 2, 4, 7, 9, 2, 7, 7, 0, 6, 1, 2, 4, 5,\n",
              "       3, 5, 4, 2, 1, 1, 8, 3, 7, 1, 6, 9, 0, 9, 5, 7, 0, 0, 1, 9, 1, 7,\n",
              "       0, 2, 1, 3, 3, 0, 3, 0, 1, 1, 7, 5])"
            ]
          },
          "metadata": {},
          "execution_count": 51
        }
      ]
    },
    {
      "cell_type": "markdown",
      "source": [
        "# **Model Evaluation:**"
      ],
      "metadata": {
        "id": "E1VtdkR5sWHE"
      }
    },
    {
      "cell_type": "markdown",
      "source": [
        "- Predict the test data using the trained model.\n",
        "- Evaluate the model using a confusion matrix and a classification report."
      ],
      "metadata": {
        "id": "3P_KA2jyzL8t"
      }
    },
    {
      "cell_type": "code",
      "source": [
        "from sklearn.metrics import confusion_matrix,classification_report"
      ],
      "metadata": {
        "id": "671Eknu2saCq"
      },
      "execution_count": null,
      "outputs": []
    },
    {
      "cell_type": "code",
      "source": [
        "confusion_matrix(y_test,y_pred)"
      ],
      "metadata": {
        "colab": {
          "base_uri": "https://localhost:8080/"
        },
        "id": "8FsZTKlcsp77",
        "outputId": "225a9a2a-4c5f-4c03-8a57-700ce4c96a0f"
      },
      "execution_count": null,
      "outputs": [
        {
          "output_type": "execute_result",
          "data": {
            "text/plain": [
              "array([[56,  0,  0,  0,  1,  0,  0,  0,  0,  0],\n",
              "       [ 0, 68,  1,  0,  0,  0,  0,  0,  0,  0],\n",
              "       [ 1,  1, 49,  0,  0,  0,  0,  0,  0,  0],\n",
              "       [ 0,  0,  0, 56,  0,  1,  0,  1,  0,  0],\n",
              "       [ 0,  0,  0,  0, 53,  0,  0,  0,  1,  1],\n",
              "       [ 0,  0,  0,  0,  0, 46,  0,  0,  0,  1],\n",
              "       [ 1,  0,  0,  0,  0,  0, 47,  0,  1,  0],\n",
              "       [ 0,  0,  0,  0,  0,  0,  0, 60,  1,  1],\n",
              "       [ 0,  1,  1,  0,  0,  0,  0,  0, 48,  0],\n",
              "       [ 0,  0,  0,  0,  0,  0,  0,  0,  0, 42]])"
            ]
          },
          "metadata": {},
          "execution_count": 53
        }
      ]
    },
    {
      "cell_type": "code",
      "source": [
        "print(classification_report(y_test,y_pred))"
      ],
      "metadata": {
        "colab": {
          "base_uri": "https://localhost:8080/"
        },
        "id": "3lMCm1GcsyDq",
        "outputId": "9ae1e932-b2bf-44e3-dafb-679039b71f77"
      },
      "execution_count": null,
      "outputs": [
        {
          "output_type": "stream",
          "name": "stdout",
          "text": [
            "              precision    recall  f1-score   support\n",
            "\n",
            "           0       0.97      0.98      0.97        57\n",
            "           1       0.97      0.99      0.98        69\n",
            "           2       0.96      0.96      0.96        51\n",
            "           3       1.00      0.97      0.98        58\n",
            "           4       0.98      0.96      0.97        55\n",
            "           5       0.98      0.98      0.98        47\n",
            "           6       1.00      0.96      0.98        49\n",
            "           7       0.98      0.97      0.98        62\n",
            "           8       0.94      0.96      0.95        50\n",
            "           9       0.93      1.00      0.97        42\n",
            "\n",
            "    accuracy                           0.97       540\n",
            "   macro avg       0.97      0.97      0.97       540\n",
            "weighted avg       0.97      0.97      0.97       540\n",
            "\n"
          ]
        }
      ]
    },
    {
      "cell_type": "markdown",
      "source": [
        "# **Explanation:**\n"
      ],
      "metadata": {
        "id": "YqSEEYcIzXT7"
      }
    },
    {
      "cell_type": "markdown",
      "source": [
        "- The provided code demonstrates the entire process of loading data, preprocessing, model training, evaluation, and prediction for handwritten digit classification using a Random Forest model.\n"
      ],
      "metadata": {
        "id": "j9riPc9GzZ1n"
      }
    }
  ]
}